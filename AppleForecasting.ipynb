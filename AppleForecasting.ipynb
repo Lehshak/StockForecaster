{
 "cells": [
  {
   "cell_type": "code",
   "execution_count": 163,
   "id": "cce85267-4e12-4bb2-bbc9-287057798879",
   "metadata": {},
   "outputs": [],
   "source": [
    "import pandas as pd\n",
    "import numpy as np\n",
    "import matplotlib.pyplot as plt\n",
    "\n",
    "import torch\n",
    "import torch.nn as nn\n"
   ]
  },
  {
   "cell_type": "code",
   "execution_count": 165,
   "id": "75e49d80-5b91-4e4d-8f77-6889eb5b7d67",
   "metadata": {},
   "outputs": [
    {
     "data": {
      "text/html": [
       "<div>\n",
       "<style scoped>\n",
       "    .dataframe tbody tr th:only-of-type {\n",
       "        vertical-align: middle;\n",
       "    }\n",
       "\n",
       "    .dataframe tbody tr th {\n",
       "        vertical-align: top;\n",
       "    }\n",
       "\n",
       "    .dataframe thead th {\n",
       "        text-align: right;\n",
       "    }\n",
       "</style>\n",
       "<table border=\"1\" class=\"dataframe\">\n",
       "  <thead>\n",
       "    <tr style=\"text-align: right;\">\n",
       "      <th></th>\n",
       "      <th>Date</th>\n",
       "      <th>Open</th>\n",
       "      <th>High</th>\n",
       "      <th>Low</th>\n",
       "      <th>Close</th>\n",
       "      <th>Adj Close</th>\n",
       "      <th>Volume</th>\n",
       "    </tr>\n",
       "  </thead>\n",
       "  <tbody>\n",
       "    <tr>\n",
       "      <th>0</th>\n",
       "      <td>2000-07-25</td>\n",
       "      <td>0.898438</td>\n",
       "      <td>0.904018</td>\n",
       "      <td>0.876116</td>\n",
       "      <td>0.893973</td>\n",
       "      <td>0.755812</td>\n",
       "      <td>211607200</td>\n",
       "    </tr>\n",
       "    <tr>\n",
       "      <th>1</th>\n",
       "      <td>2000-07-26</td>\n",
       "      <td>0.890067</td>\n",
       "      <td>0.915179</td>\n",
       "      <td>0.879464</td>\n",
       "      <td>0.893973</td>\n",
       "      <td>0.755812</td>\n",
       "      <td>210470400</td>\n",
       "    </tr>\n",
       "    <tr>\n",
       "      <th>2</th>\n",
       "      <td>2000-07-27</td>\n",
       "      <td>0.892857</td>\n",
       "      <td>0.950893</td>\n",
       "      <td>0.890625</td>\n",
       "      <td>0.928571</td>\n",
       "      <td>0.785063</td>\n",
       "      <td>294985600</td>\n",
       "    </tr>\n",
       "    <tr>\n",
       "      <th>3</th>\n",
       "      <td>2000-07-28</td>\n",
       "      <td>0.933594</td>\n",
       "      <td>0.937500</td>\n",
       "      <td>0.837054</td>\n",
       "      <td>0.862723</td>\n",
       "      <td>0.729392</td>\n",
       "      <td>237893600</td>\n",
       "    </tr>\n",
       "    <tr>\n",
       "      <th>4</th>\n",
       "      <td>2000-07-31</td>\n",
       "      <td>0.877790</td>\n",
       "      <td>0.921875</td>\n",
       "      <td>0.870536</td>\n",
       "      <td>0.907366</td>\n",
       "      <td>0.767135</td>\n",
       "      <td>155299200</td>\n",
       "    </tr>\n",
       "    <tr>\n",
       "      <th>...</th>\n",
       "      <td>...</td>\n",
       "      <td>...</td>\n",
       "      <td>...</td>\n",
       "      <td>...</td>\n",
       "      <td>...</td>\n",
       "      <td>...</td>\n",
       "      <td>...</td>\n",
       "    </tr>\n",
       "    <tr>\n",
       "      <th>6036</th>\n",
       "      <td>2024-07-24</td>\n",
       "      <td>224.000000</td>\n",
       "      <td>224.800003</td>\n",
       "      <td>217.130005</td>\n",
       "      <td>218.539993</td>\n",
       "      <td>218.539993</td>\n",
       "      <td>61777600</td>\n",
       "    </tr>\n",
       "    <tr>\n",
       "      <th>6037</th>\n",
       "      <td>2024-07-25</td>\n",
       "      <td>218.929993</td>\n",
       "      <td>220.850006</td>\n",
       "      <td>214.619995</td>\n",
       "      <td>217.490005</td>\n",
       "      <td>217.490005</td>\n",
       "      <td>51391200</td>\n",
       "    </tr>\n",
       "    <tr>\n",
       "      <th>6038</th>\n",
       "      <td>2024-07-26</td>\n",
       "      <td>218.699997</td>\n",
       "      <td>219.490005</td>\n",
       "      <td>216.009995</td>\n",
       "      <td>217.960007</td>\n",
       "      <td>217.960007</td>\n",
       "      <td>41601300</td>\n",
       "    </tr>\n",
       "    <tr>\n",
       "      <th>6039</th>\n",
       "      <td>2024-07-29</td>\n",
       "      <td>216.960007</td>\n",
       "      <td>219.300003</td>\n",
       "      <td>215.750000</td>\n",
       "      <td>218.240005</td>\n",
       "      <td>218.240005</td>\n",
       "      <td>36311800</td>\n",
       "    </tr>\n",
       "    <tr>\n",
       "      <th>6040</th>\n",
       "      <td>2024-07-30</td>\n",
       "      <td>219.190002</td>\n",
       "      <td>220.330002</td>\n",
       "      <td>216.119995</td>\n",
       "      <td>218.800003</td>\n",
       "      <td>218.800003</td>\n",
       "      <td>41518300</td>\n",
       "    </tr>\n",
       "  </tbody>\n",
       "</table>\n",
       "<p>6041 rows × 7 columns</p>\n",
       "</div>"
      ],
      "text/plain": [
       "            Date        Open        High         Low       Close   Adj Close  \\\n",
       "0     2000-07-25    0.898438    0.904018    0.876116    0.893973    0.755812   \n",
       "1     2000-07-26    0.890067    0.915179    0.879464    0.893973    0.755812   \n",
       "2     2000-07-27    0.892857    0.950893    0.890625    0.928571    0.785063   \n",
       "3     2000-07-28    0.933594    0.937500    0.837054    0.862723    0.729392   \n",
       "4     2000-07-31    0.877790    0.921875    0.870536    0.907366    0.767135   \n",
       "...          ...         ...         ...         ...         ...         ...   \n",
       "6036  2024-07-24  224.000000  224.800003  217.130005  218.539993  218.539993   \n",
       "6037  2024-07-25  218.929993  220.850006  214.619995  217.490005  217.490005   \n",
       "6038  2024-07-26  218.699997  219.490005  216.009995  217.960007  217.960007   \n",
       "6039  2024-07-29  216.960007  219.300003  215.750000  218.240005  218.240005   \n",
       "6040  2024-07-30  219.190002  220.330002  216.119995  218.800003  218.800003   \n",
       "\n",
       "         Volume  \n",
       "0     211607200  \n",
       "1     210470400  \n",
       "2     294985600  \n",
       "3     237893600  \n",
       "4     155299200  \n",
       "...         ...  \n",
       "6036   61777600  \n",
       "6037   51391200  \n",
       "6038   41601300  \n",
       "6039   36311800  \n",
       "6040   41518300  \n",
       "\n",
       "[6041 rows x 7 columns]"
      ]
     },
     "execution_count": 165,
     "metadata": {},
     "output_type": "execute_result"
    }
   ],
   "source": [
    "data = pd.read_csv(\"AAPL.csv\")\n",
    "data"
   ]
  },
  {
   "cell_type": "code",
   "execution_count": 167,
   "id": "9074b1e1-9714-4d28-96c0-a40655800907",
   "metadata": {},
   "outputs": [
    {
     "data": {
      "text/html": [
       "<div>\n",
       "<style scoped>\n",
       "    .dataframe tbody tr th:only-of-type {\n",
       "        vertical-align: middle;\n",
       "    }\n",
       "\n",
       "    .dataframe tbody tr th {\n",
       "        vertical-align: top;\n",
       "    }\n",
       "\n",
       "    .dataframe thead th {\n",
       "        text-align: right;\n",
       "    }\n",
       "</style>\n",
       "<table border=\"1\" class=\"dataframe\">\n",
       "  <thead>\n",
       "    <tr style=\"text-align: right;\">\n",
       "      <th></th>\n",
       "      <th>Date</th>\n",
       "      <th>Close</th>\n",
       "    </tr>\n",
       "  </thead>\n",
       "  <tbody>\n",
       "    <tr>\n",
       "      <th>0</th>\n",
       "      <td>2000-07-25</td>\n",
       "      <td>0.893973</td>\n",
       "    </tr>\n",
       "    <tr>\n",
       "      <th>1</th>\n",
       "      <td>2000-07-26</td>\n",
       "      <td>0.893973</td>\n",
       "    </tr>\n",
       "    <tr>\n",
       "      <th>2</th>\n",
       "      <td>2000-07-27</td>\n",
       "      <td>0.928571</td>\n",
       "    </tr>\n",
       "    <tr>\n",
       "      <th>3</th>\n",
       "      <td>2000-07-28</td>\n",
       "      <td>0.862723</td>\n",
       "    </tr>\n",
       "    <tr>\n",
       "      <th>4</th>\n",
       "      <td>2000-07-31</td>\n",
       "      <td>0.907366</td>\n",
       "    </tr>\n",
       "    <tr>\n",
       "      <th>...</th>\n",
       "      <td>...</td>\n",
       "      <td>...</td>\n",
       "    </tr>\n",
       "    <tr>\n",
       "      <th>6036</th>\n",
       "      <td>2024-07-24</td>\n",
       "      <td>218.539993</td>\n",
       "    </tr>\n",
       "    <tr>\n",
       "      <th>6037</th>\n",
       "      <td>2024-07-25</td>\n",
       "      <td>217.490005</td>\n",
       "    </tr>\n",
       "    <tr>\n",
       "      <th>6038</th>\n",
       "      <td>2024-07-26</td>\n",
       "      <td>217.960007</td>\n",
       "    </tr>\n",
       "    <tr>\n",
       "      <th>6039</th>\n",
       "      <td>2024-07-29</td>\n",
       "      <td>218.240005</td>\n",
       "    </tr>\n",
       "    <tr>\n",
       "      <th>6040</th>\n",
       "      <td>2024-07-30</td>\n",
       "      <td>218.800003</td>\n",
       "    </tr>\n",
       "  </tbody>\n",
       "</table>\n",
       "<p>6041 rows × 2 columns</p>\n",
       "</div>"
      ],
      "text/plain": [
       "            Date       Close\n",
       "0     2000-07-25    0.893973\n",
       "1     2000-07-26    0.893973\n",
       "2     2000-07-27    0.928571\n",
       "3     2000-07-28    0.862723\n",
       "4     2000-07-31    0.907366\n",
       "...          ...         ...\n",
       "6036  2024-07-24  218.539993\n",
       "6037  2024-07-25  217.490005\n",
       "6038  2024-07-26  217.960007\n",
       "6039  2024-07-29  218.240005\n",
       "6040  2024-07-30  218.800003\n",
       "\n",
       "[6041 rows x 2 columns]"
      ]
     },
     "execution_count": 167,
     "metadata": {},
     "output_type": "execute_result"
    }
   ],
   "source": [
    "data = data[['Date', \"Close\"]]\n",
    "data"
   ]
  },
  {
   "cell_type": "code",
   "execution_count": 169,
   "id": "5d9f1cb1-207f-4c73-b287-e2e57efaa763",
   "metadata": {},
   "outputs": [
    {
     "data": {
      "text/plain": [
       "'cpu'"
      ]
     },
     "execution_count": 169,
     "metadata": {},
     "output_type": "execute_result"
    }
   ],
   "source": [
    "device = 'cuda:0' if torch.cuda.is_available() else 'cpu'\n",
    "device"
   ]
  },
  {
   "cell_type": "code",
   "execution_count": 171,
   "id": "d07d4391-a706-4d74-93f1-61b1e7337ce4",
   "metadata": {},
   "outputs": [
    {
     "name": "stderr",
     "output_type": "stream",
     "text": [
      "/var/folders/vm/s6yr79_d1t75v3n3_30shbc00000gn/T/ipykernel_64728/2487158108.py:1: SettingWithCopyWarning: \n",
      "A value is trying to be set on a copy of a slice from a DataFrame.\n",
      "Try using .loc[row_indexer,col_indexer] = value instead\n",
      "\n",
      "See the caveats in the documentation: https://pandas.pydata.org/pandas-docs/stable/user_guide/indexing.html#returning-a-view-versus-a-copy\n",
      "  data[\"Date\"] = pd.to_datetime(data[\"Date\"])\n"
     ]
    }
   ],
   "source": [
    "data[\"Date\"] = pd.to_datetime(data[\"Date\"])"
   ]
  },
  {
   "cell_type": "code",
   "execution_count": 173,
   "id": "caefd167-b72c-47bd-aa6a-eb9418841263",
   "metadata": {},
   "outputs": [
    {
     "data": {
      "text/plain": [
       "[<matplotlib.lines.Line2D at 0x17febcc90>]"
      ]
     },
     "execution_count": 173,
     "metadata": {},
     "output_type": "execute_result"
    },
    {
     "data": {
      "image/png": "[encoded data removed]",
      "text/plain": [
       "<Figure size 640x480 with 1 Axes>"
      ]
     },
     "metadata": {},
     "output_type": "display_data"
    }
   ],
   "source": [
    "plt.plot(data[\"Date\"], data[\"Close\"])"
   ]
  },
  {
   "cell_type": "code",
   "execution_count": 175,
   "id": "59cacad7-aeb6-4ed5-a6ac-f97fd37c1d94",
   "metadata": {},
   "outputs": [],
   "source": [
    "from copy import deepcopy as dc\n",
    "\n",
    "def prepare_dataframe_for_lstm(df, n_steps):\n",
    "    df = dc(df)\n",
    "    df.set_index(\"Date\", inplace=True)\n",
    "\n",
    "    for i in range(1, n_steps+1):\n",
    "        df[f'Close(t-{i})'] = df[\"Close\"].shift(i)\n",
    "\n",
    "    df.dropna(inplace=True)\n",
    "\n",
    "    return df\n",
    "\n",
    "df = prepare_dataframe_for_lstm(data, 7)"
   ]
  },
  {
   "cell_type": "code",
   "execution_count": 177,
   "id": "e2b1a296-e4c1-4e37-a687-7052a7125d5d",
   "metadata": {},
   "outputs": [
    {
     "data": {
      "text/html": [
       "<div>\n",
       "<style scoped>\n",
       "    .dataframe tbody tr th:only-of-type {\n",
       "        vertical-align: middle;\n",
       "    }\n",
       "\n",
       "    .dataframe tbody tr th {\n",
       "        vertical-align: top;\n",
       "    }\n",
       "\n",
       "    .dataframe thead th {\n",
       "        text-align: right;\n",
       "    }\n",
       "</style>\n",
       "<table border=\"1\" class=\"dataframe\">\n",
       "  <thead>\n",
       "    <tr style=\"text-align: right;\">\n",
       "      <th></th>\n",
       "      <th>Close</th>\n",
       "      <th>Close(t-1)</th>\n",
       "      <th>Close(t-2)</th>\n",
       "      <th>Close(t-3)</th>\n",
       "      <th>Close(t-4)</th>\n",
       "      <th>Close(t-5)</th>\n",
       "      <th>Close(t-6)</th>\n",
       "      <th>Close(t-7)</th>\n",
       "    </tr>\n",
       "    <tr>\n",
       "      <th>Date</th>\n",
       "      <th></th>\n",
       "      <th></th>\n",
       "      <th></th>\n",
       "      <th></th>\n",
       "      <th></th>\n",
       "      <th></th>\n",
       "      <th></th>\n",
       "      <th></th>\n",
       "    </tr>\n",
       "  </thead>\n",
       "  <tbody>\n",
       "    <tr>\n",
       "      <th>2000-08-03</th>\n",
       "      <td>0.857143</td>\n",
       "      <td>0.843750</td>\n",
       "      <td>0.880580</td>\n",
       "      <td>0.907366</td>\n",
       "      <td>0.862723</td>\n",
       "      <td>0.928571</td>\n",
       "      <td>0.893973</td>\n",
       "      <td>0.893973</td>\n",
       "    </tr>\n",
       "    <tr>\n",
       "      <th>2000-08-04</th>\n",
       "      <td>0.845982</td>\n",
       "      <td>0.857143</td>\n",
       "      <td>0.843750</td>\n",
       "      <td>0.880580</td>\n",
       "      <td>0.907366</td>\n",
       "      <td>0.862723</td>\n",
       "      <td>0.928571</td>\n",
       "      <td>0.893973</td>\n",
       "    </tr>\n",
       "    <tr>\n",
       "      <th>2000-08-07</th>\n",
       "      <td>0.856027</td>\n",
       "      <td>0.845982</td>\n",
       "      <td>0.857143</td>\n",
       "      <td>0.843750</td>\n",
       "      <td>0.880580</td>\n",
       "      <td>0.907366</td>\n",
       "      <td>0.862723</td>\n",
       "      <td>0.928571</td>\n",
       "    </tr>\n",
       "    <tr>\n",
       "      <th>2000-08-08</th>\n",
       "      <td>0.834821</td>\n",
       "      <td>0.856027</td>\n",
       "      <td>0.845982</td>\n",
       "      <td>0.857143</td>\n",
       "      <td>0.843750</td>\n",
       "      <td>0.880580</td>\n",
       "      <td>0.907366</td>\n",
       "      <td>0.862723</td>\n",
       "    </tr>\n",
       "    <tr>\n",
       "      <th>2000-08-09</th>\n",
       "      <td>0.848214</td>\n",
       "      <td>0.834821</td>\n",
       "      <td>0.856027</td>\n",
       "      <td>0.845982</td>\n",
       "      <td>0.857143</td>\n",
       "      <td>0.843750</td>\n",
       "      <td>0.880580</td>\n",
       "      <td>0.907366</td>\n",
       "    </tr>\n",
       "    <tr>\n",
       "      <th>...</th>\n",
       "      <td>...</td>\n",
       "      <td>...</td>\n",
       "      <td>...</td>\n",
       "      <td>...</td>\n",
       "      <td>...</td>\n",
       "      <td>...</td>\n",
       "      <td>...</td>\n",
       "      <td>...</td>\n",
       "    </tr>\n",
       "    <tr>\n",
       "      <th>2024-07-24</th>\n",
       "      <td>218.539993</td>\n",
       "      <td>225.009995</td>\n",
       "      <td>223.960007</td>\n",
       "      <td>224.309998</td>\n",
       "      <td>224.179993</td>\n",
       "      <td>228.880005</td>\n",
       "      <td>234.820007</td>\n",
       "      <td>234.399994</td>\n",
       "    </tr>\n",
       "    <tr>\n",
       "      <th>2024-07-25</th>\n",
       "      <td>217.490005</td>\n",
       "      <td>218.539993</td>\n",
       "      <td>225.009995</td>\n",
       "      <td>223.960007</td>\n",
       "      <td>224.309998</td>\n",
       "      <td>224.179993</td>\n",
       "      <td>228.880005</td>\n",
       "      <td>234.820007</td>\n",
       "    </tr>\n",
       "    <tr>\n",
       "      <th>2024-07-26</th>\n",
       "      <td>217.960007</td>\n",
       "      <td>217.490005</td>\n",
       "      <td>218.539993</td>\n",
       "      <td>225.009995</td>\n",
       "      <td>223.960007</td>\n",
       "      <td>224.309998</td>\n",
       "      <td>224.179993</td>\n",
       "      <td>228.880005</td>\n",
       "    </tr>\n",
       "    <tr>\n",
       "      <th>2024-07-29</th>\n",
       "      <td>218.240005</td>\n",
       "      <td>217.960007</td>\n",
       "      <td>217.490005</td>\n",
       "      <td>218.539993</td>\n",
       "      <td>225.009995</td>\n",
       "      <td>223.960007</td>\n",
       "      <td>224.309998</td>\n",
       "      <td>224.179993</td>\n",
       "    </tr>\n",
       "    <tr>\n",
       "      <th>2024-07-30</th>\n",
       "      <td>218.800003</td>\n",
       "      <td>218.240005</td>\n",
       "      <td>217.960007</td>\n",
       "      <td>217.490005</td>\n",
       "      <td>218.539993</td>\n",
       "      <td>225.009995</td>\n",
       "      <td>223.960007</td>\n",
       "      <td>224.309998</td>\n",
       "    </tr>\n",
       "  </tbody>\n",
       "</table>\n",
       "<p>6034 rows × 8 columns</p>\n",
       "</div>"
      ],
      "text/plain": [
       "                 Close  Close(t-1)  Close(t-2)  Close(t-3)  Close(t-4)  \\\n",
       "Date                                                                     \n",
       "2000-08-03    0.857143    0.843750    0.880580    0.907366    0.862723   \n",
       "2000-08-04    0.845982    0.857143    0.843750    0.880580    0.907366   \n",
       "2000-08-07    0.856027    0.845982    0.857143    0.843750    0.880580   \n",
       "2000-08-08    0.834821    0.856027    0.845982    0.857143    0.843750   \n",
       "2000-08-09    0.848214    0.834821    0.856027    0.845982    0.857143   \n",
       "...                ...         ...         ...         ...         ...   \n",
       "2024-07-24  218.539993  225.009995  223.960007  224.309998  224.179993   \n",
       "2024-07-25  217.490005  218.539993  225.009995  223.960007  224.309998   \n",
       "2024-07-26  217.960007  217.490005  218.539993  225.009995  223.960007   \n",
       "2024-07-29  218.240005  217.960007  217.490005  218.539993  225.009995   \n",
       "2024-07-30  218.800003  218.240005  217.960007  217.490005  218.539993   \n",
       "\n",
       "            Close(t-5)  Close(t-6)  Close(t-7)  \n",
       "Date                                            \n",
       "2000-08-03    0.928571    0.893973    0.893973  \n",
       "2000-08-04    0.862723    0.928571    0.893973  \n",
       "2000-08-07    0.907366    0.862723    0.928571  \n",
       "2000-08-08    0.880580    0.907366    0.862723  \n",
       "2000-08-09    0.843750    0.880580    0.907366  \n",
       "...                ...         ...         ...  \n",
       "2024-07-24  228.880005  234.820007  234.399994  \n",
       "2024-07-25  224.179993  228.880005  234.820007  \n",
       "2024-07-26  224.309998  224.179993  228.880005  \n",
       "2024-07-29  223.960007  224.309998  224.179993  \n",
       "2024-07-30  225.009995  223.960007  224.309998  \n",
       "\n",
       "[6034 rows x 8 columns]"
      ]
     },
     "execution_count": 177,
     "metadata": {},
     "output_type": "execute_result"
    }
   ],
   "source": [
    "df"
   ]
  },
  {
   "cell_type": "code",
   "execution_count": 179,
   "id": "bb591464-1f1b-4209-9425-96d017a6e013",
   "metadata": {},
   "outputs": [],
   "source": [
    "df = df.to_numpy() #convert to numpy, changes data to a tensor"
   ]
  },
  {
   "cell_type": "code",
   "execution_count": 181,
   "id": "21ef78d3-8deb-4cd8-b834-aa33a22e709d",
   "metadata": {},
   "outputs": [
    {
     "data": {
      "text/plain": [
       "(6034, 8)"
      ]
     },
     "execution_count": 181,
     "metadata": {},
     "output_type": "execute_result"
    }
   ],
   "source": [
    "df.shape"
   ]
  },
  {
   "cell_type": "code",
   "execution_count": 183,
   "id": "5015a75c-73b9-4f89-b771-22f2b14182f7",
   "metadata": {},
   "outputs": [
    {
     "data": {
      "text/plain": [
       "array([[-0.99468973, -0.99480391, -0.99448991, ..., -0.99408076,\n",
       "        -0.99437573, -0.99437573],\n",
       "       [-0.99478488, -0.99468973, -0.99480391, ..., -0.99464215,\n",
       "        -0.99408076, -0.99437573],\n",
       "       [-0.99469924, -0.99478488, -0.99468973, ..., -0.99426154,\n",
       "        -0.99464215, -0.99408076],\n",
       "       ...,\n",
       "       [ 0.85625724,  0.85225015,  0.861202  , ...,  0.91039515,\n",
       "         0.90928677,  0.94935751],\n",
       "       [ 0.85864441,  0.85625724,  0.85225015, ...,  0.90741124,\n",
       "         0.91039515,  0.90928677],\n",
       "       [ 0.86341876,  0.85864441,  0.85625724, ...,  0.91636309,\n",
       "         0.90741124,  0.91039515]])"
      ]
     },
     "execution_count": 183,
     "metadata": {},
     "output_type": "execute_result"
    }
   ],
   "source": [
    "from sklearn.preprocessing import MinMaxScaler\n",
    "\n",
    "scaler = MinMaxScaler(feature_range=(-1,1))\n",
    "df_np = scaler.fit_transform(df)\n",
    "\n",
    "df_np\n",
    "#normalizes values from range -1 to 1 "
   ]
  },
  {
   "cell_type": "code",
   "execution_count": 185,
   "id": "ef2cb65e-c6c8-46ea-aff0-cb96f3e91694",
   "metadata": {},
   "outputs": [
    {
     "data": {
      "text/plain": [
       "((6034, 7), (6034,))"
      ]
     },
     "execution_count": 185,
     "metadata": {},
     "output_type": "execute_result"
    }
   ],
   "source": [
    "X = df_np[:, 1:]\n",
    "y = df_np[:, 0]\n",
    "X.shape, y.shape"
   ]
  },
  {
   "cell_type": "code",
   "execution_count": 187,
   "id": "0620a52b-bd80-42da-b20c-d2aef2818c2d",
   "metadata": {},
   "outputs": [],
   "source": [
    "X= dc(np.flip(X, axis=1))"
   ]
  },
  {
   "cell_type": "code",
   "execution_count": 189,
   "id": "78ecc996-1195-4f3a-a579-f422f78d8562",
   "metadata": {},
   "outputs": [
    {
     "data": {
      "text/plain": [
       "5732"
      ]
     },
     "execution_count": 189,
     "metadata": {},
     "output_type": "execute_result"
    }
   ],
   "source": [
    "split = int(len(X)*0.95)\n",
    "\n",
    "split"
   ]
  },
  {
   "cell_type": "code",
   "execution_count": 191,
   "id": "70a806a1-6d30-4f11-9ad7-1bfebb9a637a",
   "metadata": {},
   "outputs": [],
   "source": [
    "X_train = X[:split]\n",
    "X_test = X[split:]\n",
    "\n",
    "y_train = y[:split]\n",
    "y_test = y[split:]\n"
   ]
  },
  {
   "cell_type": "code",
   "execution_count": 193,
   "id": "3725f8e4-a24f-4e4d-be9a-5bd49325c023",
   "metadata": {},
   "outputs": [
    {
     "data": {
      "text/plain": [
       "((5732, 7, 1), (302, 7, 1), (5732, 1), (302, 1))"
      ]
     },
     "execution_count": 193,
     "metadata": {},
     "output_type": "execute_result"
    }
   ],
   "source": [
    "\n",
    "X_train = X_train.reshape((-1,7, 1))\n",
    "X_test = X_test.reshape((-1,7, 1))\n",
    "\n",
    "y_train = y_train.reshape((-1, 1))\n",
    "y_test = y_test.reshape((-1, 1))\n",
    "\n",
    "X_train.shape, X_test.shape, y_train.shape, y_test.shape"
   ]
  },
  {
   "cell_type": "code",
   "execution_count": 195,
   "id": "37705b69-7c72-4a73-9150-91d7a574ec18",
   "metadata": {},
   "outputs": [
    {
     "data": {
      "text/plain": [
       "(torch.Size([5732, 7, 1]),\n",
       " torch.Size([302, 7, 1]),\n",
       " torch.Size([5732, 1]),\n",
       " torch.Size([302, 1]))"
      ]
     },
     "execution_count": 195,
     "metadata": {},
     "output_type": "execute_result"
    }
   ],
   "source": [
    "X_train = torch.tensor(X_train).float()\n",
    "y_train = torch.tensor(y_train).float()\n",
    "X_test = torch.tensor(X_test).float()\n",
    "y_test = torch.tensor(y_test).float()\n",
    "\n",
    "X_train.shape, X_test.shape, y_train.shape, y_test.shape"
   ]
  },
  {
   "cell_type": "code",
   "execution_count": 197,
   "id": "129c56db-fbec-41ba-a07c-614047ede79f",
   "metadata": {},
   "outputs": [],
   "source": [
    "from torch.utils.data import Dataset\n",
    "\n",
    "class TimeSeriesDataset(Dataset):\n",
    "    def __init__(self, X, y):\n",
    "        self.X = X\n",
    "        self.y = y\n",
    "\n",
    "    def __len__(self):\n",
    "        return len(self.X)\n",
    "    def __getitem__(self, i):\n",
    "        return self.X[i], self.y[i]\n",
    "\n",
    "train_dataset = TimeSeriesDataset(X_train, y_train)\n",
    "test_dataset = TimeSeriesDataset(X_test, y_test)"
   ]
  },
  {
   "cell_type": "code",
   "execution_count": 199,
   "id": "71f863c6-ee19-4a65-aab9-885a4d286e71",
   "metadata": {},
   "outputs": [],
   "source": [
    "from torch.utils.data import DataLoader\n",
    "\n",
    "batch_size = 16\n",
    "\n",
    "train_loader = DataLoader(train_dataset, batch_size=batch_size, shuffle=True)\n",
    "test_loader = DataLoader(test_dataset, batch_size=batch_size, shuffle=False)"
   ]
  },
  {
   "cell_type": "code",
   "execution_count": 201,
   "id": "f68d0357-3edc-4107-87e6-d389827f944b",
   "metadata": {},
   "outputs": [
    {
     "data": {
      "text/plain": [
       "LSTM(\n",
       "  (lstm): LSTM(1, 4, batch_first=True)\n",
       "  (fc): Linear(in_features=4, out_features=1, bias=True)\n",
       ")"
      ]
     },
     "execution_count": 201,
     "metadata": {},
     "output_type": "execute_result"
    }
   ],
   "source": [
    "class LSTM(nn.Module):\n",
    "    def __init__(self, input_size, hidden_size, num_stacked_layers):\n",
    "        super().__init__()\n",
    "        self.hidden_size = hidden_size\n",
    "        self.num_stacked_layers = num_stacked_layers\n",
    "\n",
    "        self.lstm = nn.LSTM(input_size, hidden_size, num_stacked_layers,\n",
    "                            batch_first=True)\n",
    "\n",
    "        self.fc = nn.Linear(hidden_size, 1)\n",
    "\n",
    "    def forward(self, x):\n",
    "        batch_size = x.size(0)\n",
    "        h0 = torch.zeros(self.num_stacked_layers, batch_size, self.hidden_size).to(device)\n",
    "        #lstm gate vectors\n",
    "        c0 = torch.zeros(self.num_stacked_layers, batch_size, self.hidden_size).to(device)\n",
    "\n",
    "        out, _ = self.lstm(x, (h0, c0))\n",
    "        out = self.fc(out[:, -1, :])\n",
    "        return out\n",
    "\n",
    "model = LSTM(1, 4, 1)\n",
    "model.to(device)\n",
    "model"
   ]
  },
  {
   "cell_type": "code",
   "execution_count": 203,
   "id": "dfb6da71-3e27-4b31-9452-3cfef735c27a",
   "metadata": {},
   "outputs": [],
   "source": [
    "def train_one_epoch():\n",
    "    model.train(True)\n",
    "    print(f'Epoch: {epoch + 1}')\n",
    "    running_loss = 0.0\n",
    "\n",
    "    for batch_index, batch in enumerate(train_loader):\n",
    "        x_batch, y_batch = batch[0].to(device), batch[1].to(device)\n",
    "\n",
    "        output = model(x_batch)\n",
    "        loss = loss_function(output, y_batch)\n",
    "        running_loss += loss.item()\n",
    "\n",
    "        optimizer.zero_grad()\n",
    "        loss.backward()\n",
    "        optimizer.step()\n",
    "\n",
    "        if batch_index % 100 == 99:  # print every 100 batches\n",
    "            avg_loss_across_batches = running_loss / 100\n",
    "            print('Batch {0}, Loss: {1:.3f}'.format(batch_index+1,\n",
    "                                                    avg_loss_across_batches))\n",
    "            running_loss = 0.0\n",
    "    print()"
   ]
  },
  {
   "cell_type": "code",
   "execution_count": 205,
   "id": "1f2e2fea-4afe-48bb-96bb-d7166e392b06",
   "metadata": {},
   "outputs": [],
   "source": [
    "def validate_one_epoch():\n",
    "    model.train(False)\n",
    "    running_loss = 0.0\n",
    "\n",
    "    for batch_index, batch in enumerate(test_loader):\n",
    "        x_batch, y_batch = batch[0].to(device), batch[1].to(device)\n",
    "\n",
    "        with torch.no_grad():\n",
    "            output = model(x_batch)\n",
    "            loss = loss_function(output, y_batch)\n",
    "            running_loss += loss.item()\n",
    "\n",
    "    avg_loss_across_batches = running_loss / len(test_loader)\n",
    "\n",
    "    print('Val Loss: {0:.3f}'.format(avg_loss_across_batches))\n",
    "    print('***************************************************')\n",
    "    print()"
   ]
  },
  {
   "cell_type": "code",
   "execution_count": 207,
   "id": "3cbf0a28-4a49-4c74-880a-1203538b514e",
   "metadata": {},
   "outputs": [
    {
     "name": "stdout",
     "output_type": "stream",
     "text": [
      "Epoch: 1\n",
      "Batch 100, Loss: 0.782\n",
      "Batch 200, Loss: 0.131\n",
      "Batch 300, Loss: 0.033\n",
      "\n",
      "Val Loss: 0.138\n",
      "***************************************************\n",
      "\n",
      "Epoch: 2\n",
      "Batch 100, Loss: 0.004\n",
      "Batch 200, Loss: 0.003\n",
      "Batch 300, Loss: 0.003\n",
      "\n",
      "Val Loss: 0.080\n",
      "***************************************************\n",
      "\n",
      "Epoch: 3\n",
      "Batch 100, Loss: 0.002\n",
      "Batch 200, Loss: 0.002\n",
      "Batch 300, Loss: 0.002\n",
      "\n",
      "Val Loss: 0.066\n",
      "***************************************************\n",
      "\n",
      "Epoch: 4\n",
      "Batch 100, Loss: 0.002\n",
      "Batch 200, Loss: 0.001\n",
      "Batch 300, Loss: 0.001\n",
      "\n",
      "Val Loss: 0.052\n",
      "***************************************************\n",
      "\n",
      "Epoch: 5\n",
      "Batch 100, Loss: 0.001\n",
      "Batch 200, Loss: 0.001\n",
      "Batch 300, Loss: 0.001\n",
      "\n",
      "Val Loss: 0.045\n",
      "***************************************************\n",
      "\n",
      "Epoch: 6\n",
      "Batch 100, Loss: 0.001\n",
      "Batch 200, Loss: 0.001\n",
      "Batch 300, Loss: 0.001\n",
      "\n",
      "Val Loss: 0.038\n",
      "***************************************************\n",
      "\n",
      "Epoch: 7\n",
      "Batch 100, Loss: 0.001\n",
      "Batch 200, Loss: 0.001\n",
      "Batch 300, Loss: 0.001\n",
      "\n",
      "Val Loss: 0.032\n",
      "***************************************************\n",
      "\n",
      "Epoch: 8\n",
      "Batch 100, Loss: 0.001\n",
      "Batch 200, Loss: 0.001\n",
      "Batch 300, Loss: 0.001\n",
      "\n",
      "Val Loss: 0.028\n",
      "***************************************************\n",
      "\n",
      "Epoch: 9\n",
      "Batch 100, Loss: 0.001\n",
      "Batch 200, Loss: 0.000\n",
      "Batch 300, Loss: 0.000\n",
      "\n",
      "Val Loss: 0.020\n",
      "***************************************************\n",
      "\n",
      "Epoch: 10\n",
      "Batch 100, Loss: 0.000\n",
      "Batch 200, Loss: 0.000\n",
      "Batch 300, Loss: 0.000\n",
      "\n",
      "Val Loss: 0.017\n",
      "***************************************************\n",
      "\n"
     ]
    }
   ],
   "source": [
    "learning_rate = 0.001\n",
    "num_epochs = 10\n",
    "loss_function = nn.MSELoss()\n",
    "optimizer = torch.optim.Adam(model.parameters(), lr=learning_rate)\n",
    "\n",
    "for epoch in range(num_epochs):\n",
    "    train_one_epoch()\n",
    "    validate_one_epoch()"
   ]
  },
  {
   "cell_type": "code",
   "execution_count": 208,
   "id": "ef3fdb17-d6a1-4b22-aaab-b4fb7b7fb952",
   "metadata": {},
   "outputs": [
    {
     "data": {
      "image/png": "[encoded data removed]",
      "text/plain": [
       "<Figure size 640x480 with 1 Axes>"
      ]
     },
     "metadata": {},
     "output_type": "display_data"
    }
   ],
   "source": [
    "with torch.no_grad():\n",
    "    predicted = model(X_train.to(device)).to('cpu').numpy()\n",
    "\n",
    "plt.plot(y_train, label='Actual Close')\n",
    "plt.plot(predicted, label='Predicted Close')\n",
    "plt.xlabel('Day')\n",
    "plt.ylabel('Close')\n",
    "plt.legend()\n",
    "plt.show()"
   ]
  },
  {
   "cell_type": "code",
   "execution_count": null,
   "id": "eade0c59-3cea-4358-aafc-30bdbae2c9cd",
   "metadata": {},
   "outputs": [],
   "source": []
  }
 ],
 "metadata": {
  "kernelspec": {
   "display_name": "Python 3 (ipykernel)",
   "language": "python",
   "name": "python3"
  },
  "language_info": {
   "codemirror_mode": {
    "name": "ipython",
    "version": 3
   },
   "file_extension": ".py",
   "mimetype": "text/x-python",
   "name": "python",
   "nbconvert_exporter": "python",
   "pygments_lexer": "ipython3",
   "version": "3.11.7"
  }
 },
 "nbformat": 4,
 "nbformat_minor": 5
}
